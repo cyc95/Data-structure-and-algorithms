{
 "cells": [
  {
   "cell_type": "code",
   "execution_count": 22,
   "metadata": {
    "collapsed": false
   },
   "outputs": [
   ],
   "source": [
    "class MinHeap:\n",
    "    def __init__(self,size):\n",
    "        self.maxsize=size\n",
    "        self.count=0\n",
    "        self.Heap= [0]*(self.maxsize)\n",
    "        \n",
    "    def parent(self,current):\n",
    "        if not current: return 0\n",
    "        return (current-1) // 2\n",
    "    \n",
    "    def gerMin(self):\n",
    "        if self.count==0: return False\n",
    "        return self.Heap[0]\n",
    "    \n",
    "    def size(self):\n",
    "        return self.count\n",
    "    \n",
    "    def isEmpty(self):\n",
    "        if self.count==0: return True\n",
    "        return False\n",
    "            \n",
    "    def swap(self,fpos,spos):\n",
    "        self.Heap[fpos],self.Heap[spos]=self.Heap[spos],self.Heap[fpos]\n",
    "        \n",
    "    def add(self,key):\n",
    "        if self.count==self.maxsize:\n",
    "            return False\n",
    "        self.Heap[self.count]=key\n",
    "        self.upHeap(self.count)\n",
    "        self.count+=1\n",
    "        return True\n",
    "        \n",
    "    def upHeap(self,current):\n",
    "        while(self.Heap[self.parent(current)]>self.Heap[current]):\n",
    "            self.swap(current,self.parent(current))\n",
    "            current=self.parent(current)\n",
    "            \n",
    "    def removeMin(self):\n",
    "        if self.isEmpty(): return False\n",
    "        popped=self.Heap[0]\n",
    "        self.Heap[0]=self.Heap[self.count-1]\n",
    "        self.count-=1\n",
    "        self.downHeap()\n",
    "        return popped\n",
    "    \n",
    "    def downHeap(self):\n",
    "        pos=0\n",
    "        while 2*pos+1<self.count:\n",
    "            if self.Heap[2*pos+1]<self.Heap[pos]:\n",
    "                self.Heap[2*pos+1],self.Heap[pos]=self.Heap[pos],self.Heap[2*pos+1]\n",
    "                pos=2*pos+1\n",
    "            else:\n",
    "                if 2*pos+2<self.count:\n",
    "                    if self.Heap[2*pos+2]<self.Heap[pos]:\n",
    "                        self.Heap[2*pos+2],self.Heap[pos]=self.Heap[pos],self.Heap[2*pos+2]\n",
    "                        print(self.Heap[2*pos+2],self.Heap[pos])\n",
    "                        print(2*pos+2,pos)\n",
    "                    else:\n",
    "                        break\n",
    "                else:\n",
    "                    break\n",
    "                    \n",
    "class priorityqueue:\n",
    "    def __init__(self):\n",
    "        self.heap=MinHeap(100)\n",
    "    def enqueue(value,priority):\n",
    "        self.heap.add(Data(priority,value))\n",
    "    def dequeue(self):\n",
    "        if not heap.count:\n",
    "            return None\n",
    "        return heap.removeMin()\n",
    "        \n",
    "#not finished"
   ]
  },
  {
   "cell_type": "code",
   "execution_count": 21,
   "metadata": {
    "collapsed": false
   },
   "outputs": [
    {
     "ename": "AttributeError",
     "evalue": "'int' object has no attribute 'heap'",
     "output_type": "error",
     "traceback": [
      "\u001b[0;31m---------------------------------------------------------------------------\u001b[0m",
      "\u001b[0;31mAttributeError\u001b[0m                            Traceback (most recent call last)",
      "\u001b[0;32m<ipython-input-21-b55046444841>\u001b[0m in \u001b[0;36m<module>\u001b[0;34m\u001b[0m\n\u001b[0;32m----> 1\u001b[0;31m \u001b[0mpriorityqueue\u001b[0m\u001b[0;34m.\u001b[0m\u001b[0menqueue\u001b[0m\u001b[0;34m(\u001b[0m\u001b[0;36m1\u001b[0m\u001b[0;34m,\u001b[0m\u001b[0;36m1\u001b[0m\u001b[0;34m,\u001b[0m\u001b[0;36m1\u001b[0m\u001b[0;34m)\u001b[0m\u001b[0;34m\u001b[0m\u001b[0;34m\u001b[0m\u001b[0m\n\u001b[0m\u001b[1;32m      2\u001b[0m \u001b[0mpriorityqueue\u001b[0m\u001b[0;34m.\u001b[0m\u001b[0mdeqzeze\u001b[0m\u001b[0;34m(\u001b[0m\u001b[0;34m)\u001b[0m\u001b[0;34m\u001b[0m\u001b[0;34m\u001b[0m\u001b[0m\n",
      "\u001b[0;32m<ipython-input-20-63e458ec66cb>\u001b[0m in \u001b[0;36menqueue\u001b[0;34m(self, value, priority)\u001b[0m\n\u001b[1;32m     60\u001b[0m         \u001b[0mself\u001b[0m\u001b[0;34m.\u001b[0m\u001b[0mheap\u001b[0m\u001b[0;34m=\u001b[0m\u001b[0mMinHeap\u001b[0m\u001b[0;34m(\u001b[0m\u001b[0;36m100\u001b[0m\u001b[0;34m)\u001b[0m\u001b[0;34m\u001b[0m\u001b[0;34m\u001b[0m\u001b[0m\n\u001b[1;32m     61\u001b[0m     \u001b[0;32mdef\u001b[0m \u001b[0menqueue\u001b[0m\u001b[0;34m(\u001b[0m\u001b[0mself\u001b[0m\u001b[0;34m,\u001b[0m\u001b[0mvalue\u001b[0m\u001b[0;34m,\u001b[0m\u001b[0mpriority\u001b[0m\u001b[0;34m)\u001b[0m\u001b[0;34m:\u001b[0m\u001b[0;34m\u001b[0m\u001b[0;34m\u001b[0m\u001b[0m\n\u001b[0;32m---> 62\u001b[0;31m         \u001b[0mself\u001b[0m\u001b[0;34m.\u001b[0m\u001b[0mheap\u001b[0m\u001b[0;34m.\u001b[0m\u001b[0madd\u001b[0m\u001b[0;34m(\u001b[0m\u001b[0mData\u001b[0m\u001b[0;34m(\u001b[0m\u001b[0mpriority\u001b[0m\u001b[0;34m,\u001b[0m\u001b[0mvalue\u001b[0m\u001b[0;34m)\u001b[0m\u001b[0;34m)\u001b[0m\u001b[0;34m\u001b[0m\u001b[0;34m\u001b[0m\u001b[0m\n\u001b[0m\u001b[1;32m     63\u001b[0m     \u001b[0;32mdef\u001b[0m \u001b[0mdequeue\u001b[0m\u001b[0;34m(\u001b[0m\u001b[0mself\u001b[0m\u001b[0;34m)\u001b[0m\u001b[0;34m:\u001b[0m\u001b[0;34m\u001b[0m\u001b[0;34m\u001b[0m\u001b[0m\n\u001b[1;32m     64\u001b[0m         \u001b[0;32mif\u001b[0m \u001b[0;32mnot\u001b[0m \u001b[0mheap\u001b[0m\u001b[0;34m.\u001b[0m\u001b[0mcount\u001b[0m\u001b[0;34m:\u001b[0m\u001b[0;34m\u001b[0m\u001b[0;34m\u001b[0m\u001b[0m\n",
      "\u001b[0;31mAttributeError\u001b[0m: 'int' object has no attribute 'heap'"
     ]
    }
   ],
   "source": [
   ]
  },
  {
   "cell_type": "code",
   "execution_count": 0,
   "metadata": {
    "collapsed": false
   },
   "outputs": [
   ],
   "source": [
   ]
  }
 ],
 "metadata": {
  "kernelspec": {
   "display_name": "Python 3 (system-wide)",
   "language": "python",
   "metadata": {
    "cocalc": {
     "description": "Python 3 programming language",
     "priority": 100,
     "url": "https://www.python.org/"
    }
   },
   "name": "python3",
   "resource_dir": "/ext/jupyter/kernels/python3"
  },
  "language_info": {
   "codemirror_mode": {
    "name": "ipython",
    "version": 3
   },
   "file_extension": ".py",
   "mimetype": "text/x-python",
   "name": "python",
   "nbconvert_exporter": "python",
   "pygments_lexer": "ipython3",
   "version": "3.8.5"
  }
 },
 "nbformat": 4,
 "nbformat_minor": 4
}