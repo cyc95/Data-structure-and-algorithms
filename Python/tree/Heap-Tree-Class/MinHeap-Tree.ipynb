{
 "cells": [
  {
   "cell_type": "code",
   "execution_count": 52,
   "metadata": {
    "collapsed": false
   },
   "outputs": [
   ],
   "source": [
    "class MinHeap:\n",
    "    def __init__(self,size):\n",
    "        self.maxsize=size\n",
    "        self.count=0\n",
    "        self.Heap= [0]*(self.maxsize)\n",
    "        \n",
    "    def parent(self,current):\n",
    "        if not current: return 0\n",
    "        return (current-1) // 2\n",
    "    \n",
    "    def gerMin(self):\n",
    "        if self.count==0: return False\n",
    "        return self.Heap[0]\n",
    "    \n",
    "    def size(self):\n",
    "        return self.count\n",
    "    \n",
    "    def isEmpty(self):\n",
    "        if self.count==0: return True\n",
    "        return False\n",
    "            \n",
    "    def swap(self,fpos,spos):\n",
    "        self.Heap[fpos],self.Heap[spos]=self.Heap[spos],self.Heap[fpos]\n",
    "        \n",
    "    def add(self,key):\n",
    "        if self.count==self.maxsize:\n",
    "            return False\n",
    "        self.Heap[self.count]=key\n",
    "        self.upHeap(self.count)\n",
    "        self.count+=1\n",
    "        return True\n",
    "        \n",
    "    def upHeap(self,current):\n",
    "        while(self.Heap[self.parent(current)]>self.Heap[current]):\n",
    "            self.swap(current,self.parent(current))\n",
    "            current=self.parent(current)\n",
    "            \n",
    "    def removeMin(self):\n",
    "        if self.isEmpty(): return False\n",
    "        popped=self.Heap[0]\n",
    "        print(self.Heap[0])\n",
    "        self.Heap[0]=self.Heap[self.count-1]\n",
    "        print(self.Heap[0])\n",
    "        self.count-=1\n",
    "        self.downHeap()\n",
    "        print(self.Heap[0])\n",
    "        return popped\n",
    "    \n",
    "    def downHeap(self):\n",
    "        pos=0\n",
    "        while 2*pos+1<self.count:\n",
    "            if self.Heap[2*pos+1]<self.Heap[pos]:\n",
    "                self.Heap[2*pos+1],self.Heap[pos]=self.Heap[pos],self.Heap[2*pos+1]\n",
    "                pos=2*pos+1\n",
    "            else:\n",
    "                if 2*pos+2<self.count:\n",
    "                    if self.Heap[2*pos+2]<self.Heap[pos]:\n",
    "                        self.Heap[2*pos+2],self.Heap[pos]=self.Heap[pos],self.Heap[2*pos+2]\n",
    "                        print(self.Heap[2*pos+2],self.Heap[pos])\n",
    "                        print(2*pos+2,pos)\n",
    "                    else:\n",
    "                        break\n",
    "                else:\n",
    "                    break"
   ]
  },
  {
   "cell_type": "code",
   "execution_count": 53,
   "metadata": {
    "collapsed": false
   },
   "outputs": [
    {
     "name": "stdout",
     "output_type": "stream",
     "text": [
      "1\n",
      "0\n",
      "0\n",
      "min: 1\n",
      "0\n",
      "11\n",
      "3\n",
      "min: 0\n"
     ]
    }
   ],
   "source": [
    "a=MinHeap(100)\n",
    "a.add(11)\n",
    "a.add(1)\n",
    "a.add(22)\n",
    "a.add(3)\n",
    "print(\"min:\",a.removeMin())\n",
    "print(\"min:\",a.removeMin())"
   ]
  },
  {
   "cell_type": "code",
   "execution_count": 0,
   "metadata": {
    "collapsed": false
   },
   "outputs": [
   ],
   "source": [
   ]
  }
 ],
 "metadata": {
  "kernelspec": {
   "display_name": "Python 3 (system-wide)",
   "language": "python",
   "metadata": {
    "cocalc": {
     "description": "Python 3 programming language",
     "priority": 100,
     "url": "https://www.python.org/"
    }
   },
   "name": "python3",
   "resource_dir": "/ext/jupyter/kernels/python3"
  },
  "language_info": {
   "codemirror_mode": {
    "name": "ipython",
    "version": 3
   },
   "file_extension": ".py",
   "mimetype": "text/x-python",
   "name": "python",
   "nbconvert_exporter": "python",
   "pygments_lexer": "ipython3",
   "version": "3.8.5"
  }
 },
 "nbformat": 4,
 "nbformat_minor": 4
}