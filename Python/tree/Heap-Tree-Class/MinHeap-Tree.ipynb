{
 "cells": [
  {
   "cell_type": "code",
   "execution_count": 0,
   "metadata": {
    "collapsed": false
   },
   "outputs": [
   ],
   "source": [
    "class MinHeap:\n",
    "    def __init__(self,size):\n",
    "        self.maxsize=size\n",
    "        self.count=0\n",
    "        self.Heap= [0]*(self.maxsize)\n",
    "        \n",
    "    def parent(self,current):\n",
    "        in not current: return 0\n",
    "        return (current-1) // 2\n",
    "    \n",
    "    def gerMin(self):\n",
    "        if self.count==0: return False\n",
    "        return self.Heap[0]\n",
    "    \n",
    "    def size(self):\n",
    "        return self.count\n",
    "    \n",
    "    def isEmpty(self):\n",
    "        if self.count==0: return True\n",
    "        return False\n",
    "            \n",
    "    def swap(self,fpos,spos):\n",
    "        self.Heap[fpos],self.Heap[spos]=self.Heap[spos],self.Heap[fpos]\n",
    "        \n",
    "    def add(self,key):\n",
    "        if self.count==self.maxsize:\n",
    "            return False\n",
    "        self.Heap[self.count]=key\n",
    "        self.upHeap(self.count)\n",
    "        self.count+=1\n",
    "        return True\n",
    "        \n",
    "    def upHeap(self,current):\n",
    "        while(Heap[self.parent(current)]>Heap[current]):\n",
    "            swap(current,self.parent(current))\n",
    "            current=self.parent(current)\n",
    "            \n",
    "    def removeMin(self):\n",
    "        if self.isEmpty: return False\n",
    "        popped=self.Heap[0]\n",
    "        self.Heap[0]=self.Heap[self.count]\n",
    "        self.count-=1\n",
    "        self.downHeap()\n",
    "        return popped\n",
    "    \n",
    "    def downHeap(self)\n",
    "        pos=0\n",
    "        while 2*pos+1<self.count:\n",
    "            if Heap[2*pos+1]<Heap[pos]:\n",
    "                Heap[2*pos+1],Heap[pos]=Heap[pos],Heap[2*pos+1]\n",
    "                pos=2*pos+1\n",
    "            else:\n",
    "                if Heap[2*pos+2]<Heap[pos]:\n",
    "                    Heap[2*pos+2],Heap[pos]=Heap[pos],Heap[2*pos+2]\n",
    "                    pos=2*pos+2\n",
    "                esle:\n",
    "                    break\n",
    "                "
   ]
  }
 ],
 "metadata": {
  "kernelspec": {
   "display_name": "Python 3 (system-wide)",
   "language": "python",
   "metadata": {
    "cocalc": {
     "description": "Python 3 programming language",
     "priority": 100,
     "url": "https://www.python.org/"
    }
   },
   "name": "python3",
   "resource_dir": "/ext/jupyter/kernels/python3"
  }
 },
 "nbformat": 4,
 "nbformat_minor": 4
}