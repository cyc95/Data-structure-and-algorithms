{
 "cells": [
  {
   "cell_type": "code",
   "execution_count": 9,
   "metadata": {
    "collapsed": false
   },
   "outputs": [
   ],
   "source": [
    "#Schluesselvergeiche:\n",
    "#Cmin = O(n) Falls zusätzliche Abbruchbedingung wenn kein Tausch: O(1)\n",
    "#Cmax = O(n^2)\n",
    "#Cavg = O(n^2)\n",
    "#Datenbewegungen:\n",
    "#Mmin = O(1) \n",
    "#Mmax = O(n^2)\n",
    "#Mavg = O(n^2)\n",
    "def insertion_sort(arr):\n",
    "    n=len(arr)\n",
    "    for i in range(1,n):               #hier muss nicht len(list-1), weil die laste list[i] muss vergleicht werden.\n",
    "        tem=arr[i]\n",
    "        j=i\n",
    "        for k in range(0,i):\n",
    "            j=i-k\n",
    "            if tem<arr[j-1]:\n",
    "                arr[j]=arr[j-1]\n",
    "            else:\n",
    "                j=j+1\n",
    "                break\n",
    "        arr[j-1]=tem\n",
    "    return arr"
   ]
  },
  {
   "cell_type": "code",
   "execution_count": 10,
   "metadata": {
    "collapsed": false
   },
   "outputs": [
    {
     "name": "stdout",
     "output_type": "stream",
     "text": [
      "[1, 1, 2, 3, 4, 4, 4, 5, 5, 6, 7, 8, 8, 9]\n"
     ]
    }
   ],
   "source": [
    "arr=[6,8,2,1,4,9,7,5,3,1,4,8,5,4]\n",
    "print(insertion_sort(arr))"
   ]
  },
  {
   "cell_type": "code",
   "execution_count": 17,
   "metadata": {
    "collapsed": false
   },
   "outputs": [
   ],
   "source": [
    "def insertion_sort_v2(arr):\n",
    "    n=len(arr)\n",
    "    for i in range(1,n):               #hier muss nicht len(list-1), weil die laste list[i] muss vergleicht werden.\n",
    "        tem=arr[i]\n",
    "        j=i\n",
    "        while(j>0 and arr[j-1]>tem):\n",
    "            arr[j]=arr[j-1]\n",
    "            j=j-1\n",
    "        arr[j]=tem\n",
    "    return arr"
   ]
  },
  {
   "cell_type": "code",
   "execution_count": 18,
   "metadata": {
    "collapsed": false
   },
   "outputs": [
    {
     "name": "stdout",
     "output_type": "stream",
     "text": [
      "[1, 1, 2, 3, 4, 4, 4, 5, 5, 6, 7, 8, 8, 9]\n"
     ]
    }
   ],
   "source": [
    "arr=[6,8,2,1,4,9,7,5,3,1,4,8,5,4]\n",
    "print(insertion_sort_v2(arr))"
   ]
  },
  {
   "cell_type": "code",
   "execution_count": 0,
   "metadata": {
    "collapsed": false
   },
   "outputs": [
   ],
   "source": [
   ]
  }
 ],
 "metadata": {
  "kernelspec": {
   "display_name": "Python 3 (system-wide)",
   "language": "python",
   "metadata": {
    "cocalc": {
     "description": "Python 3 programming language",
     "priority": 100,
     "url": "https://www.python.org/"
    }
   },
   "name": "python3",
   "resource_dir": "/ext/jupyter/kernels/python3"
  },
  "language_info": {
   "codemirror_mode": {
    "name": "ipython",
    "version": 3
   },
   "file_extension": ".py",
   "mimetype": "text/x-python",
   "name": "python",
   "nbconvert_exporter": "python",
   "pygments_lexer": "ipython3",
   "version": "3.8.5"
  }
 },
 "nbformat": 4,
 "nbformat_minor": 4
}