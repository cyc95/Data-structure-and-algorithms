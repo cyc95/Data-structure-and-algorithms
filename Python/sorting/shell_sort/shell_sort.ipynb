{
 "cells": [
  {
   "cell_type": "code",
   "execution_count": 42,
   "metadata": {
    "collapsed": false
   },
   "outputs": [
   ],
   "source": [
    "#Optimierung von Insertionsort\n",
    "#Schluesselvergeiche:\n",
    "#Cmin = O(nlog(n)) \n",
    "#Cmax = O(nlog(n)^2)\n",
    "#Cavg = O(nlog(n))\n",
    "#Datenbewegungen:\n",
    "#Mmin = O(1) \n",
    "#Mmax = O(n^2)\n",
    "#Mavg = O(n^2)\n",
    "def shell_sort(arr):\n",
    "    n=len(arr)\n",
    "    gab=int(n/2)\n",
    "    while gab>0:\n",
    "        for i in range(gab,n):\n",
    "            tem=arr[i]\n",
    "            j=i\n",
    "            while j>=gab and arr[j-gab]>tem:\n",
    "                arr[j]=arr[j-gab]\n",
    "                j-=gab\n",
    "            arr[int(j)]=tem\n",
    "        gab//=2\n",
    "    return arr"
   ]
  },
  {
   "cell_type": "code",
   "execution_count": 43,
   "metadata": {
    "collapsed": false
   },
   "outputs": [
    {
     "name": "stdout",
     "output_type": "stream",
     "text": [
      "[1, 1, 2, 3, 4, 4, 4, 5, 5, 6, 7, 8, 8, 9]\n"
     ]
    }
   ],
   "source": [
    "arr=[6,8,2,1,4,9,7,5,3,1,4,8,5,4]\n",
    "print(shell_sort(arr))\n"
   ]
  },
  {
   "cell_type": "code",
   "execution_count": 0,
   "metadata": {
    "collapsed": false
   },
   "outputs": [
   ],
   "source": [
   ]
  }
 ],
 "metadata": {
  "kernelspec": {
   "display_name": "Python 3 (system-wide)",
   "language": "python",
   "metadata": {
    "cocalc": {
     "description": "Python 3 programming language",
     "priority": 100,
     "url": "https://www.python.org/"
    }
   },
   "name": "python3",
   "resource_dir": "/ext/jupyter/kernels/python3"
  }
 },
 "nbformat": 4,
 "nbformat_minor": 4
}