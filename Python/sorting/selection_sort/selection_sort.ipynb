{
 "cells": [
  {
   "cell_type": "code",
   "execution_count": 6,
   "metadata": {
    "collapsed": false
   },
   "outputs": [
   ],
   "source": [
    "#Schluesselvergeiche:\n",
    "#Cmin = O(n^2)\n",
    "#Cmax = O(n^2)\n",
    "#Cavg = O(n^2)\n",
    "#Datenbewegungen:\n",
    "#Mmin = O(1) \n",
    "#Mmax = O(n)\n",
    "#Mavg = O(n)\n",
    "def selection_sort(arr):\n",
    "    n=len(arr)\n",
    "    for i in range(0,n-1):               #hier muss nicht len(list)-1, weil die laste list[i] muss nicht vergleicht werden.\n",
    "        min=i\n",
    "        for j in range(i,n):\n",
    "            if arr[min]>arr[j]:\n",
    "                min=j\n",
    "        if min!=i:\n",
    "            tem=arr[i]\n",
    "            arr[i]=arr[min]\n",
    "            arr[min]=tem\n",
    "    return arr"
   ]
  },
  {
   "cell_type": "code",
   "execution_count": 7,
   "metadata": {
    "collapsed": false
   },
   "outputs": [
    {
     "name": "stdout",
     "output_type": "stream",
     "text": [
      "[1, 1, 2, 3, 4, 4, 4, 5, 5, 6, 7, 8, 8, 9]\n"
     ]
    }
   ],
   "source": [
    "arr=[6,8,2,1,4,9,7,5,3,1,4,8,5,4]\n",
    "print(selection_sort(arr))\n"
   ]
  },
  {
   "cell_type": "code",
   "execution_count": 0,
   "metadata": {
    "collapsed": false
   },
   "outputs": [
   ],
   "source": [
   ]
  }
 ],
 "metadata": {
  "kernelspec": {
   "display_name": "Python 3 (system-wide)",
   "language": "python",
   "metadata": {
    "cocalc": {
     "description": "Python 3 programming language",
     "priority": 100,
     "url": "https://www.python.org/"
    }
   },
   "name": "python3",
   "resource_dir": "/ext/jupyter/kernels/python3"
  },
  "language_info": {
   "codemirror_mode": {
    "name": "ipython",
    "version": 3
   },
   "file_extension": ".py",
   "mimetype": "text/x-python",
   "name": "python",
   "nbconvert_exporter": "python",
   "pygments_lexer": "ipython3",
   "version": "3.8.5"
  }
 },
 "nbformat": 4,
 "nbformat_minor": 4
}