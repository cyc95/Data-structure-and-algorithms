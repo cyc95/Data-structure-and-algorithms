{
 "cells": [
  {
   "cell_type": "code",
   "execution_count": 57,
   "metadata": {
    "collapsed": false
   },
   "outputs": [
   ],
   "source": [
    "\n",
    "#Schluesselvergeiche:\n",
    "#Cmax = O(nlog(n))\n",
    "\n",
    "def heap_sort(data):\n",
    "    i = len(data)//2\n",
    "    while i >=0:\n",
    "        data=downHeap(data,i,len(data))\n",
    "        i-=1\n",
    "    for i in range(len(data)-1,0,-1):\n",
    "        data[0],data[i]=data[i],data[0]\n",
    "        data=downHeap(data,0,i)\n",
    "    return data\n",
    "        \n",
    "def downHeap(data,index,maxIndex):\n",
    "    while (2*index+1)<maxIndex:\n",
    "        j=2*index+1\n",
    "        if(j+1)<maxIndex:\n",
    "            if data[j]<data[j+1]:\n",
    "                j+=1\n",
    "        if data[index]<data[j]:\n",
    "            data[j],data[index]=data[index],data[j]\n",
    "            index=j\n",
    "        else:\n",
    "            return data\n",
    "    return data"
   ]
  },
  {
   "cell_type": "code",
   "execution_count": 56,
   "metadata": {
    "collapsed": false
   },
   "outputs": [
    {
     "name": "stdout",
     "output_type": "stream",
     "text": [
      "[1, 1, 2, 3, 4, 4, 4, 5, 5, 6, 7, 7, 8, 8, 9, 14, 17, 18, 28, 35, 48, 50, 62, 64, 64, 65, 67, 74, 84, 87, 94, 97]\n"
     ]
    }
   ],
   "source": [
    "arr=[6,8,2,1,4,9,7,5,3,1,4,8,5,4,50,7,94,35,74,64,14,64,87,18,97,62,65,48,17,84,67,28]\n",
    "print(heap_sort(arr))"
   ]
  },
  {
   "cell_type": "code",
   "execution_count": 0,
   "metadata": {
    "collapsed": false
   },
   "outputs": [
   ],
   "source": [
   ]
  }
 ],
 "metadata": {
  "kernelspec": {
   "display_name": "Python 3 (system-wide)",
   "language": "python",
   "metadata": {
    "cocalc": {
     "description": "Python 3 programming language",
     "priority": 100,
     "url": "https://www.python.org/"
    }
   },
   "name": "python3",
   "resource_dir": "/ext/jupyter/kernels/python3"
  },
  "language_info": {
   "codemirror_mode": {
    "name": "ipython",
    "version": 3
   },
   "file_extension": ".py",
   "mimetype": "text/x-python",
   "name": "python",
   "nbconvert_exporter": "python",
   "pygments_lexer": "ipython3",
   "version": "3.8.5"
  }
 },
 "nbformat": 4,
 "nbformat_minor": 4
}