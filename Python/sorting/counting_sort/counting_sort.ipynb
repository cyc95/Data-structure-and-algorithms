{
 "cells": [
  {
   "cell_type": "code",
   "execution_count": 1,
   "metadata": {
    "collapsed": false
   },
   "outputs": [
   ],
   "source": [
    "#Schluesselvergeiche: keine\n",
    "#O(n)\n",
    "def counting_sort(arr,k):\n",
    "    n=len(arr)\n",
    "    count=[0]*k\n",
    "    for i in range(n):\n",
    "        count[arr[i]]+=1\n",
    "    i=n-1\n",
    "    k=k-1\n",
    "    while k>=0:\n",
    "        while count[k]>0:\n",
    "            arr[i]=k\n",
    "            i-=1\n",
    "            count[k]-=1\n",
    "        k-=1\n",
    "    return arr"
   ]
  },
  {
   "cell_type": "code",
   "execution_count": 2,
   "metadata": {
    "collapsed": false
   },
   "outputs": [
    {
     "name": "stdout",
     "output_type": "stream",
     "text": [
      "[0, 0, 1, 1, 1, 1, 1, 2, 2, 2, 2, 2, 2, 2, 2, 3, 3, 3, 3, 3, 3, 3, 3, 3]\n",
      "[0, 0, 1, 1, 1, 1, 1, 2, 2, 2, 2, 2, 2, 2, 2, 3, 3, 3, 3, 3, 3, 3, 3, 3]\n"
     ]
    }
   ],
   "source": [
    "arr=[0,3,2,3,2,3,2,3,1,2,3,2,1,3,2,1,3,2,1,0,2,1,3,3]\n",
    "print(counting_sort(arr,4))\n",
    "print(arr)"
   ]
  }
 ],
 "metadata": {
  "kernelspec": {
   "display_name": "Python 3 (system-wide)",
   "language": "python",
   "metadata": {
    "cocalc": {
     "description": "Python 3 programming language",
     "priority": 100,
     "url": "https://www.python.org/"
    }
   },
   "name": "python3",
   "resource_dir": "/ext/jupyter/kernels/python3"
  }
 },
 "nbformat": 4,
 "nbformat_minor": 4
}