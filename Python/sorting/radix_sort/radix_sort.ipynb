{
 "cells": [
  {
   "cell_type": "code",
   "execution_count": 1,
   "metadata": {
    "collapsed": false
   },
   "outputs": [
   ],
   "source": [
    "def counting_sort(arr,k):    #variant for radixsort\n",
    "    n=len(arr)\n",
    "    output=[0]*n\n",
    "    count=[0]*10\n",
    "    for i in range(n):\n",
    "        index=(arr[i]/k)\n",
    "        count[int(index%10)]+=1\n",
    "    for i in range(1,10):\n",
    "        count[i] += count[i-1]\n",
    "    i=n-1\n",
    "    while i>=0:\n",
    "        index = (arr[i]/k)\n",
    "        output[count[int(index%10)]-1]=arr[i]\n",
    "        count[int(index%10)]-=1\n",
    "        i-=1\n",
    "    for i in range(n):\n",
    "        arr[i]=output[i]\n",
    "    return arr\n",
    "\n",
    "def radix_sort(arr):\n",
    "    max1=max(arr)\n",
    "    exp=1\n",
    "    while max1/exp>0:\n",
    "        counting_sort(arr,exp)\n",
    "        exp *=10\n",
    "    return arr"
   ]
  },
  {
   "cell_type": "code",
   "execution_count": 2,
   "metadata": {
    "collapsed": false
   },
   "outputs": [
    {
     "name": "stdout",
     "output_type": "stream",
     "text": [
      "[6, 1, 4, 0, 0, 0, 0, 0, 0, 0, 0, 0, 0, 0, 0, 0, 0, 0, 0, 0, 0, 0, 0, 0, 0, 0, 0, 0, 0, 0, 0, 0]\n"
     ]
    }
   ],
   "source": [
    "arr=[6,8,2,1,4,9,7,5,3,1,4,8,5,4,50,7,94,35,74,64,14,64,87,18,97,62,65,48,17,84,67,28]\n",
    "print(radix_sort(arr))"
   ]
  }
 ],
 "metadata": {
  "kernelspec": {
   "display_name": "Python 3 (system-wide)",
   "language": "python",
   "metadata": {
    "cocalc": {
     "description": "Python 3 programming language",
     "priority": 100,
     "url": "https://www.python.org/"
    }
   },
   "name": "python3",
   "resource_dir": "/ext/jupyter/kernels/python3"
  }
 },
 "nbformat": 4,
 "nbformat_minor": 4
}