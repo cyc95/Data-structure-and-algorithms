{
 "cells": [
  {
   "cell_type": "code",
   "execution_count": 1,
   "metadata": {
    "collapsed": false
   },
   "outputs": [
   ],
   "source": [
    "def sequentiale_search(list,val):\n",
    "    for i in range(0,len(list)):\n",
    "        if list[i]>=0:\n",
    "            if list[i]==val:\n",
    "                return print(\"gefunden\",val)\n",
    "            else:\n",
    "                return print(\"nicht gefunden\")"
   ]
  },
  {
   "cell_type": "code",
   "execution_count": 2,
   "metadata": {
    "collapsed": false
   },
   "outputs": [
    {
     "name": "stdout",
     "output_type": "stream",
     "text": [
      "nicht gefunden\n"
     ]
    }
   ],
   "source": [
    "list=[1,2,3,4,6,7,8,9]\n",
    "sequentiale_search(list,4)"
   ]
  }
 ],
 "metadata": {
  "kernelspec": {
   "display_name": "Python 3 (system-wide)",
   "language": "python",
   "metadata": {
    "cocalc": {
     "description": "Python 3 programming language",
     "priority": 100,
     "url": "https://www.python.org/"
    }
   },
   "name": "python3"
  }
 },
 "nbformat": 4,
 "nbformat_minor": 4
}