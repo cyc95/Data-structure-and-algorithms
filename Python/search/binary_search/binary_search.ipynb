{
 "cells": [
  {
   "cell_type": "code",
   "execution_count": 1,
   "metadata": {
    "collapsed": false
   },
   "outputs": [
   ],
   "source": [
    "# loop is much better than recursive because it takes less location and effort\n",
    "def binary_search(arr,val,start,end):\n",
    "    min=start\n",
    "    max=end\n",
    "    while 1:\n",
    "        if min>max:\n",
    "            return -1\n",
    "        mid=int((min+max)/2)\n",
    "        if(arr[mid]==val):\n",
    "            return mid\n",
    "        else:\n",
    "            if arr[mid]<val:\n",
    "                min=mid+1\n",
    "            else:\n",
    "                max=mid-1\n",
    "\n"
   ]
  },
  {
   "cell_type": "code",
   "execution_count": 2,
   "metadata": {
    "collapsed": false
   },
   "outputs": [
    {
     "name": "stdout",
     "output_type": "stream",
     "text": [
      "7\n",
      "-1\n",
      "-1\n",
      "8\n"
     ]
    }
   ],
   "source": [
    "list=[1,2,3,4,6,7,8,9,10,11,12,13,14,15,16,17,18,19,20,21,22,23,24,25,26,27,28,29,30]\n",
    "print(binary_search(list,9,0,28))\n",
    "print(binary_search(list,-1,0,28))\n",
    "print(binary_search(list,5,0,28))\n",
    "print(binary_search(list,10,0,28))\n"
   ]
  },
  {
   "cell_type": "code",
   "execution_count": 3,
   "metadata": {
    "collapsed": false
   },
   "outputs": [
   ],
   "source": [
    "    #recursive\n",
    "def binary_search_recursive(arr,val,start,end):\n",
    "    if start>end:\n",
    "        return -1\n",
    "    mid = int((start+end)/2)\n",
    "    if val==arr[mid]:\n",
    "        return mid\n",
    "    if val<arr[mid]:\n",
    "        return binary_search_recursive(arr,val,start,mid-1)\n",
    "    else:\n",
    "        return binary_search_recursive(arr,val,mid+1,end)\n"
   ]
  },
  {
   "cell_type": "code",
   "execution_count": 4,
   "metadata": {
    "collapsed": false
   },
   "outputs": [
    {
     "name": "stdout",
     "output_type": "stream",
     "text": [
      "7\n",
      "-1\n",
      "-1\n",
      "8\n"
     ]
    }
   ],
   "source": [
    "list=[1,2,3,4,6,7,8,9,10,11,12,13,14,15,16,17,18,19,20,21,22,23,24,25,26,27,28,29,30]\n",
    "print(binary_search_recursive(list,9,0,28))\n",
    "print(binary_search_recursive(list,-1,0,28))\n",
    "print(binary_search_recursive(list,5,0,28))\n",
    "print(binary_search_recursive(list,10,0,28))"
   ]
  }
 ],
 "metadata": {
  "kernelspec": {
   "display_name": "Python 3 (system-wide)",
   "language": "python",
   "metadata": {
    "cocalc": {
     "description": "Python 3 programming language",
     "priority": 100,
     "url": "https://www.python.org/"
    }
   },
   "name": "python3"
  },
  "language_info": {
   "codemirror_mode": {
    "name": "ipython",
    "version": 3
   },
   "file_extension": ".py",
   "mimetype": "text/x-python",
   "name": "python",
   "nbconvert_exporter": "python",
   "pygments_lexer": "ipython3",
   "version": "3.8.5"
  }
 },
 "nbformat": 4,
 "nbformat_minor": 4
}